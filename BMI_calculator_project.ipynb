{
 "cells": [
  {
   "cell_type": "code",
   "execution_count": null,
   "id": "b05b1eba-696c-4129-abe3-19eb2d0b5a35",
   "metadata": {},
   "outputs": [],
   "source": [
    "# BMI CALCULATOR"
   ]
  },
  {
   "cell_type": "code",
   "execution_count": null,
   "id": "d6de01d4-b0a0-43a2-bf8d-5cbb66b19b4a",
   "metadata": {},
   "outputs": [],
   "source": [
    "# BMI = (weight in pounds * 703)/ (height in inches * height in inches)    "
   ]
  },
  {
   "cell_type": "code",
   "execution_count": null,
   "id": "98c23836-f9c1-4692-a268-cb9b598df996",
   "metadata": {},
   "outputs": [],
   "source": []
  },
  {
   "cell_type": "code",
   "execution_count": null,
   "id": "552546e2-b95b-4f87-8e72-d63879549a94",
   "metadata": {},
   "outputs": [],
   "source": [
    "name = input(\"Enter your name: \")\n",
    "\n",
    "weight = int(input(\"Enter your weight in pounds: \"))\n",
    "\n",
    "height = int(input(\"Enter your height in inches: \"))\n",
    "\n",
    "BMI = (weight * 703)/ (height * height)    \n",
    "\n",
    "print(BMI)\n",
    "\n",
    "\n",
    "if BMI > 0:\n",
    "    if(BMI< 18.5):\n",
    "        print(name +\", You are underweight. You need to eat more healthy foods and drink more water. \")\n",
    "    elif(BMI<= 24.9):\n",
    "         print(name +\", You are normal weight. Keep doing what you are doing right.\")\n",
    "    elif(BMI< 29.9):\n",
    "         print(name +\", You are overweight. You need to exercise more and stop sitting and learning too much python codes.\")\n",
    "    elif(BMI< 34.9):\n",
    "         print(name +\", You are obese.\")\n",
    "    elif(BMI< 39.9):\n",
    "         print(name +\", You are severely obese.\")\n",
    "    else:\n",
    "        print(name +\", You are morbidly obese\")\n",
    "else:\n",
    "        print(name +\", Enter a valid response\")\n",
    "        \n",
    "\n"
   ]
  },
  {
   "cell_type": "code",
   "execution_count": null,
   "id": "15140576-7140-4c09-9abb-2fcb464e475e",
   "metadata": {},
   "outputs": [],
   "source": []
  },
  {
   "cell_type": "code",
   "execution_count": null,
   "id": "65acea65-454a-4641-a1e2-a1e87c65e829",
   "metadata": {},
   "outputs": [],
   "source": []
  },
  {
   "cell_type": "code",
   "execution_count": null,
   "id": "58140728-f9a6-49e9-9e22-c473304bf6bf",
   "metadata": {},
   "outputs": [],
   "source": [
    "# Demonstration"
   ]
  },
  {
   "cell_type": "code",
   "execution_count": 8,
   "id": "a9dc7ba2-d57c-4f66-836e-62b09a06f068",
   "metadata": {},
   "outputs": [
    {
     "data": {
      "text/plain": [
       "str"
      ]
     },
     "execution_count": 8,
     "metadata": {},
     "output_type": "execute_result"
    }
   ],
   "source": [
    "type(weight)"
   ]
  },
  {
   "cell_type": "code",
   "execution_count": null,
   "id": "610eb624-2d9c-452b-ba79-e47f27b1116f",
   "metadata": {},
   "outputs": [],
   "source": [
    "# BMI = (weight in pounds * 703)/ (height in inches * height in inches)    "
   ]
  },
  {
   "cell_type": "code",
   "execution_count": 23,
   "id": "202cfe8a-ac19-4417-a34e-76a254618560",
   "metadata": {},
   "outputs": [
    {
     "name": "stdout",
     "output_type": "stream",
     "text": [
      "Wahid, You are overweight. You need to exercise more and stop sitting and learning too much python codes.\n"
     ]
    }
   ],
   "source": [
    "if BMI > 0:\n",
    "    if(BMI< 18.5):\n",
    "        print(name +\", You are underweight. You need to eat more healthy foods and drink more water. \")\n",
    "    elif(BMI<= 24.9):\n",
    "         print(name +\", You are normal weight. Keep doing what you are doing right.\")\n",
    "    elif(BMI< 29.9):\n",
    "         print(name +\", You are overweight. You need to exercise more and stop sitting and learning too much python codes.\")\n",
    "    elif(BMI< 34.9):\n",
    "         print(name +\", You are obese.\")\n",
    "    elif(BMI< 39.9):\n",
    "         print(name +\", You are severely obese.\")\n",
    "    else:\n",
    "        print(name +\", You are morbidly obese\")\n",
    "else:\n",
    "        print(name +\", Enter a valid response\")\n",
    "        "
   ]
  },
  {
   "cell_type": "code",
   "execution_count": null,
   "id": "71ddb2b1-7dfc-4732-b021-a5204a735928",
   "metadata": {},
   "outputs": [],
   "source": []
  },
  {
   "cell_type": "code",
   "execution_count": null,
   "id": "f5efcf3c-4721-4aee-bd46-661d7a764673",
   "metadata": {},
   "outputs": [],
   "source": []
  }
 ],
 "metadata": {
  "kernelspec": {
   "display_name": "Python 3 (ipykernel)",
   "language": "python",
   "name": "python3"
  },
  "language_info": {
   "codemirror_mode": {
    "name": "ipython",
    "version": 3
   },
   "file_extension": ".py",
   "mimetype": "text/x-python",
   "name": "python",
   "nbconvert_exporter": "python",
   "pygments_lexer": "ipython3",
   "version": "3.12.4"
  }
 },
 "nbformat": 4,
 "nbformat_minor": 5
}
